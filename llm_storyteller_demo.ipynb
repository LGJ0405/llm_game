{
 "cells": [
  {
   "cell_type": "markdown",
   "id": "e1ff7fae",
   "metadata": {},
   "source": [
    "# LLM GAME - Storyteller"
   ]
  },
  {
   "cell_type": "markdown",
   "id": "6be52e41",
   "metadata": {},
   "source": [
    "본 게임은 스팀 게임 **Storyteller**에서 영감을 받아 제작되었습니다.\n",
    "\n",
    "플레이어가 시나리오 테마와 배경을 입력하면, LLM이 이를 기반으로 결말과 시나리오에 필요한 인물, 배경 매개체, 최대 컷 수를 생성합니다. 이후 플레이어는 선택한 인물, 매개체, 장소를 활용해 컷별 시나리오 뼈대와 장면을 완성합니다.\n",
    "\n",
    "플레이어는 최대 컷 수 이내에서 카드와 요소를 조합하며 결말에 다가가는 시나리오를 설계하고, LLM은 플레이어의 입력을 창의적으로 해석해 무한 변주 가능한 스토리를 제공합니다."
   ]
  },
  {
   "cell_type": "code",
   "execution_count": 44,
   "id": "5dc824d2",
   "metadata": {},
   "outputs": [],
   "source": [
    "import sys\n",
    "from openai import OpenAI\n",
    "import json\n",
    "\n",
    "# from google.colab import userdata\n",
    "# GPT_API_KEY = userdata.get('GPT_API_KEY')\n",
    "# client = OpenAI(api_key=GPT_API_KEY)\n",
    "\n",
    "from dotenv import load_dotenv\n",
    "load_dotenv()\n",
    "client = OpenAI()"
   ]
  },
  {
   "cell_type": "code",
   "execution_count": 45,
   "id": "65dc1232",
   "metadata": {},
   "outputs": [],
   "source": [
    "# 테마, 배경 입력\n",
    "def theme_and_background():\n",
    "    # theme = input(\"테마를 입력하세요: \")\n",
    "    # background = input(\"배경을 입력하세요: \")\n",
    "    \n",
    "    # 테스트용 하드 코딩\n",
    "    theme, background = '복수', '중세'\n",
    "\n",
    "    return theme, background"
   ]
  },
  {
   "cell_type": "code",
   "execution_count": 46,
   "id": "0847943b",
   "metadata": {},
   "outputs": [],
   "source": [
    "# 스토리의 구조 생성\n",
    "def story_structure():\n",
    "    content = f'''\n",
    "당신은 창의적이고 논리적인 판타지 스토리 시나리오 전문가입니다.\n",
    "\n",
    "요청 사항:\n",
    "1. 입력된 테마와 배경을 바탕으로 결말을 창의적으로 만들어주세요.\n",
    "단, 간결하게 15자 이내로 간결하게 작성하세요.\n",
    "2. 결말을 표현하기 위해 필요한 인물, 배경, 매개체를 추천해주세요.\n",
    "단, 배경은 최소 max_cuts - 2 이상으로 만드세요.\n",
    "- characters: 스토리에 등장할 캐릭터  \n",
    "- settings: 장소나 환경  \n",
    "- objects: 사건에 중요한 오브젝트나 도구, 예를 들어 독약과 독을 탈 술잔, 함정용 도구 등 반드시 포함\n",
    "3. 결말과 스토리 흐름을 자연스럽게 표현할 수 있는 최대 컷 수(max_cuts)를 결정해주세요.\n",
    "4. 출력은 반드시 JSON 형식으로 작성하고, 키는 반드시 지정된 명칭으로 사용하세요.\n",
    "'''\\\n",
    "'''예시 출력:{\n",
    "    \"ending\": \"기사가 왕위를 강탈한다\",\n",
    "    \"characters\": [\"기사\", \"왕\", \"왕비\"],\n",
    "    \"settings\": [\"연회장\", \"왕좌의 방\"],\n",
    "    \"objects\": [\"술잔\", \"독약\", \"왕관\"],\n",
    "    \"max_cuts\": 5\n",
    "}'''\n",
    "\n",
    "    theme, background = theme_and_background()\n",
    "\n",
    "    user_input = f\"테마: {theme}, 배경: {background}\"\n",
    "    print(user_input)\n",
    "    if '종료' in user_input:\n",
    "        sys.exit()\n",
    "\n",
    "    messages = [{\"role\": \"system\", \"content\": content},\n",
    "                {\"role\": \"user\", \"content\": user_input}]\n",
    "\n",
    "    response = client.chat.completions.create(\n",
    "        model=\"gpt-4o-mini\",\n",
    "        messages=messages,\n",
    "        response_format = { \"type\": \"json_object\" },\n",
    "        temperature=0.8,\n",
    "        max_tokens=512,\n",
    "        top_p=1\n",
    "    )\n",
    "    return json.loads(response.choices[0].message.content)"
   ]
  },
  {
   "cell_type": "code",
   "execution_count": 47,
   "metadata": {},
   "outputs": [],
   "source": [
    "# 시나리오 템플릿 입력\n",
    "def scenario_template(json_response):\n",
    "    template = []\n",
    "    print('''입력은 숫자로 해주세요. \n",
    "    여러개를 쓰고 싶으면 , 으로 구분하세요.\n",
    "    오브젝트를 쓰고싶지 않으면 0 을 입력하세요.\n",
    "    만약 컷을 그만 쓰고 싶으면 등장인물에서 0 을 입력해주세요.''')\n",
    "    for i in range(json_response['max_cuts']):\n",
    "        print(f'{i+1}컷:')\n",
    "\n",
    "        info = {}\n",
    "        for label, key in [('등장인물', 'characters'), ('장소', 'settings'), ('오브젝트', 'objects')]:\n",
    "            print(f'  {label} (숫자 입력): ', end='')\n",
    "            values = list(map(int,input().strip().split(',')))\n",
    "\n",
    "            if 0 in values and label == '등장인물':\n",
    "                print('입력을 종료합니다.')\n",
    "                break\n",
    "\n",
    "            te = 0\n",
    "            for value in values:\n",
    "                if not 1 <= value <= len(json_response[key]):\n",
    "                    te = 1\n",
    "                    break\n",
    "                \n",
    "            if te == 1:\n",
    "                values = [json_response[key][0]]\n",
    "                print('입력값이 올바르지 않습니다. 1번 값으로 대체합니다. ', end=\"\")\n",
    "            else:\n",
    "                values = [json_response[key][value-1] for value in values]\n",
    "            print(values)\n",
    "            info[key] = values\n",
    "\n",
    "        if 0 in values and label == '등장인물':\n",
    "            break\n",
    "        template.append(info)\n",
    "\n",
    "    print(\"\\n최종 시나리오 입력:\")\n",
    "    for i, cut in enumerate(template, 1):\n",
    "        print(f\"  {i}컷 : {cut}\")\n",
    "    \n",
    "    return template"
   ]
  },
  {
   "cell_type": "code",
   "execution_count": 48,
   "id": "1aa85bb6",
   "metadata": {},
   "outputs": [],
   "source": [
    "# 최종 시나리오 작성\n",
    "def final_scenario(json_response, scenario_templates):\n",
    "    content = f'''\n",
    "당신은 창의적이고 논리적인 판타지 스토리 시나리오 전문가입니다.\n",
    "플레이어가 입력한 컷별 구성을 바탕으로 스토리를 만들어주세요.\n",
    "\n",
    "스토리 엔딩:\n",
    "\"{json_response['ending']}\"\n",
    "\n",
    "전체 등장인물: {json_response['characters']}\n",
    "전체 장소: {json_response['settings']}\n",
    "전체 오브젝트: {json_response['objects']}\n",
    "\n",
    "요청 사항:\n",
    "1. 각 컷은 엔딩과 자연스럽게 연결되도록 시나리오를 작성하세요.\n",
    "2. 선택된 컷으로 엔딩 도달이 가능하면 기존 엔딩을 사용하세요.\n",
    "3. 만약 불가능하면 새로운 엔딩을 제안하고, 새로운 엔딩으로 가도록 시나리오를 작성하세요.\n",
    "    - 새로운 엔딩 작성 시 플레이어에게 재도전을 권유하세요.\n",
    "4. 출력은 반드시 JSON 형식으로 작성하고, 키는 반드시 지정된 명칭으로 사용하세요.\n",
    "'''\\\n",
    "'''예시 출력:{\n",
    "    \"status\": \"success\" or \"retry\",\n",
    "    \"final_scenario\": [\"1컷: ...\", \"2컷: ...\"],\n",
    "    \"ending\": \"<최종 엔딩>\"\n",
    "}'''\n",
    "\n",
    "    user_content = \"컷별 구성은 아래와 같습니다.\\n\"\n",
    "    for i, cut in enumerate(scenario_templates, 1):\n",
    "        user_content += f\"{i}컷: 등장인물 {cut['characters']}, 장소 {cut['settings']}, 오브젝트 {cut['objects']}\\n\"\n",
    "\n",
    "\n",
    "    messages = [{\"role\": \"system\", \"content\": content},\n",
    "                {\"role\": \"user\", \"content\": user_content}]\n",
    "\n",
    "    response = client.chat.completions.create(\n",
    "        model=\"gpt-4o-mini\",\n",
    "        messages=messages,\n",
    "        response_format = { \"type\": \"json_object\" },\n",
    "        temperature=0.8,\n",
    "        max_tokens=2048,\n",
    "        top_p=1\n",
    "    )\n",
    "\n",
    "    return json.loads(response.choices[0].message.content)"
   ]
  },
  {
   "cell_type": "code",
   "execution_count": 49,
   "id": "1ccc0ce6",
   "metadata": {},
   "outputs": [
    {
     "name": "stdout",
     "output_type": "stream",
     "text": [
      "테마: 복수, 배경: 중세\n"
     ]
    },
    {
     "data": {
      "text/plain": [
       "{'ending': '복수의 칼날이 날카롭다',\n",
       " 'characters': ['복수심 품은 기사', '배신자', '왕'],\n",
       " 'settings': ['어두운 숲', '성벽', '왕의 방'],\n",
       " 'objects': ['칼', '배신의 편지', '보물상자'],\n",
       " 'max_cuts': 6}"
      ]
     },
     "execution_count": 49,
     "metadata": {},
     "output_type": "execute_result"
    }
   ],
   "source": [
    "json_response = story_structure()\n",
    "json_response"
   ]
  },
  {
   "cell_type": "code",
   "execution_count": 50,
   "id": "848f3d4c",
   "metadata": {},
   "outputs": [
    {
     "name": "stdout",
     "output_type": "stream",
     "text": [
      "시나리오 엔딩은 다음과 같습니다:\n",
      "  \"복수의 칼날이 날카롭다\"\n",
      "\n",
      "등장 인물: \n",
      "  1. 복수심 품은 기사\n",
      "  2. 배신자\n",
      "  3. 왕\n",
      "장소:\n",
      "  1. 어두운 숲\n",
      "  2. 성벽\n",
      "  3. 왕의 방\n",
      "사용 가능한 오브젝트:\n",
      "  1. 칼\n",
      "  2. 배신의 편지\n",
      "  3. 보물상자\n",
      "\n",
      "6컷 이내로 시나리오 뼈대를 작성해보세요.\n",
      "\n",
      "한 컷에는 1~2명의 등장인물, 1개의 장소, 0~2개의 오브젝트를 사용하세요.\n"
     ]
    }
   ],
   "source": [
    "print(\n",
    "    f'''시나리오 엔딩은 다음과 같습니다:\n",
    "  \"{json_response['ending']}\"\n",
    "\n",
    "등장인물: \n",
    "{'\\n'.join([f'  {i+1}. {j}' for i, j in enumerate(json_response['characters'])])}\n",
    "장소:\n",
    "{'\\n'.join([f'  {i+1}. {j}' for i, j in enumerate(json_response['settings'])])}\n",
    "사용 가능한 오브젝트:\n",
    "{'\\n'.join([f'  {i+1}. {j}' for i, j in enumerate(json_response['objects'])])}\n",
    "\n",
    "{json_response['max_cuts']}컷 이내로 시나리오 뼈대를 작성해보세요.\n",
    "\n",
    "한 컷에는 1~2명의 등장인물, 1개의 장소, 0~2개의 오브젝트를 사용하세요.'''\n",
    ")\n"
   ]
  },
  {
   "cell_type": "code",
   "execution_count": 51,
   "id": "b9f50d83",
   "metadata": {},
   "outputs": [
    {
     "name": "stdout",
     "output_type": "stream",
     "text": [
      "입력은 숫자로 해주세요. \n",
      "    여러개를 쓰고 싶으면 , 으로 구분하세요.\n",
      "    오브젝트를 쓰고싶지 않으면 0 을 입력하세요.\n",
      "    만약 컷을 그만 쓰고 싶으면 등장 인물에서 0 을 입력해주세요.\n",
      "1컷:\n",
      "  등장 인물 (숫자 입력): ['배신자', '왕']\n",
      "  장소 (숫자 입력): ['왕의 방']\n",
      "  오브젝트 (숫자 입력): ['칼', '보물상자']\n",
      "2컷:\n",
      "  등장 인물 (숫자 입력): ['복수심 품은 기사']\n",
      "  장소 (숫자 입력): ['왕의 방']\n",
      "  오브젝트 (숫자 입력): ['칼', '배신의 편지']\n",
      "3컷:\n",
      "  등장 인물 (숫자 입력): ['복수심 품은 기사', '배신자']\n",
      "  장소 (숫자 입력): ['어두운 숲']\n",
      "  오브젝트 (숫자 입력): ['보물상자']\n",
      "4컷:\n",
      "  등장 인물 (숫자 입력): 입력을 종료합니다.\n",
      "\n",
      "최종 시나리오 입력:\n",
      "  1컷 : {'characters': ['배신자', '왕'], 'settings': ['왕의 방'], 'objects': ['칼', '보물상자']}\n",
      "  2컷 : {'characters': ['복수심 품은 기사'], 'settings': ['왕의 방'], 'objects': ['칼', '배신의 편지']}\n",
      "  3컷 : {'characters': ['복수심 품은 기사', '배신자'], 'settings': ['어두운 숲'], 'objects': ['보물상자']}\n"
     ]
    }
   ],
   "source": [
    "scenario_templates = scenario_template(json_response)"
   ]
  },
  {
   "cell_type": "code",
   "execution_count": 52,
   "id": "07d1da03",
   "metadata": {},
   "outputs": [
    {
     "data": {
      "text/plain": [
       "[{'characters': ['배신자', '왕'], 'settings': ['왕의 방'], 'objects': ['칼', '보물상자']},\n",
       " {'characters': ['복수심 품은 기사'],\n",
       "  'settings': ['왕의 방'],\n",
       "  'objects': ['칼', '배신의 편지']},\n",
       " {'characters': ['복수심 품은 기사', '배신자'],\n",
       "  'settings': ['어두운 숲'],\n",
       "  'objects': ['보물상자']}]"
      ]
     },
     "execution_count": 52,
     "metadata": {},
     "output_type": "execute_result"
    }
   ],
   "source": [
    "scenario_templates"
   ]
  },
  {
   "cell_type": "code",
   "execution_count": 53,
   "id": "6a1bb550",
   "metadata": {},
   "outputs": [
    {
     "data": {
      "text/plain": [
       "{'status': 'success',\n",
       " 'final_scenario': ['1컷: 왕의 방에서 배신자는 왕에게 자신이 숨겨놓은 보물상자를 보여주며 성과의 힘을 이용해 왕국을 지배하겠다는 음모를 밝힌다. 왕은 그를 믿고 칼을 쥔 채로 자신의 명령을 기다리고 있다.',\n",
       "  '2컷: 복수심 품은 기사는 왕의 방에 들어선다. 그의 손에는 배신자의 음모를 담은 배신의 편지가 들려있다. 그는 왕에게 배신자의 진짜 의도를 알리며, 그를 처치할 것을 결심한다.',\n",
       "  '3컷: 복수심 품은 기사는 배신자를 어두운 숲에서 마주친다. 배신자는 보물상자를 지키며 기사를 조롱하고, 그를 공격하려 하지만, 기사는 배신자의 칼에 맞서 싸운다. 결국, 기사의 복수의 칼날이 날카로워 배신자를 처치하고, 왕국의 평화를 되찾는다.'],\n",
       " 'ending': '복수의 칼날이 날카롭다'}"
      ]
     },
     "execution_count": 53,
     "metadata": {},
     "output_type": "execute_result"
    }
   ],
   "source": [
    "final_story = final_scenario(json_response, scenario_templates)\n",
    "final_story"
   ]
  },
  {
   "cell_type": "code",
   "execution_count": 54,
   "id": "9ce24f42",
   "metadata": {},
   "outputs": [
    {
     "name": "stdout",
     "output_type": "stream",
     "text": [
      "\n",
      "시나리오 최종 결과입니다.\n",
      "1컷: 왕의 방에서 배신자는 왕에게 자신이 숨겨놓은 보물상자를 보여주며 성과의 힘을 이용해 왕국을 지배하겠다는 음모를 밝힌다. 왕은 그를 믿고 칼을 쥔 채로 자신의 명령을 기다리고 있다.\n",
      "2컷: 복수심 품은 기사는 왕의 방에 들어선다. 그의 손에는 배신자의 음모를 담은 배신의 편지가 들려있다. 그는 왕에게 배신자의 진짜 의도를 알리며, 그를 처치할 것을 결심한다.\n",
      "3컷: 복수심 품은 기사는 배신자를 어두운 숲에서 마주친다. 배신자는 보물상자를 지키며 기사를 조롱하고, 그를 공격하려 하지만, 기사는 배신자의 칼에 맞서 싸운다. 결국, 기사의 복수의 칼날이 날카로워 배신자를 처치하고, 왕국의 평화를 되찾는다.\n",
      "결말: 복수의 칼날이 날카롭다\n",
      "성공적인 스토리 텔링입니다!\n",
      "\n"
     ]
    }
   ],
   "source": [
    "print(f\"\"\"\n",
    "시나리오 최종 결과입니다.\n",
    "{'\\n'.join(final_story['final_scenario'])}\n",
    "결말: {final_story['ending']}\n",
    "{'성공적인 스토리 텔링입니다!' if final_story['status'] == 'success' else '재도전 해보세요!'}\n",
    "\"\"\")"
   ]
  }
 ],
 "metadata": {
  "kernelspec": {
   "display_name": "Python 3.12.10 64-bit (microsoft store)",
   "language": "python",
   "name": "python3"
  },
  "language_info": {
   "codemirror_mode": {
    "name": "ipython",
    "version": 3
   },
   "file_extension": ".py",
   "mimetype": "text/x-python",
   "name": "python",
   "nbconvert_exporter": "python",
   "pygments_lexer": "ipython3",
   "version": "3.12.10"
  },
  "vscode": {
   "interpreter": {
    "hash": "0fafd3744448ea7b7a7f771c152258982b6db271f1b37b6fc49a7eabbcc1dc05"
   }
  }
 },
 "nbformat": 4,
 "nbformat_minor": 5
}
